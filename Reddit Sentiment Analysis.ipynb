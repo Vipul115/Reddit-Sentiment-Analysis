{
 "cells": [
  {
   "cell_type": "code",
   "execution_count": 8,
   "metadata": {},
   "outputs": [],
   "source": [
    "#Importing the required libraries\n",
    "\n",
    "import pandas as pd\n",
    "import numpy as np\n",
    "import nltk\n",
    "import matplotlib.pyplot as plt\n",
    "import seaborn as sns\n",
    "from pprint import pprint\n",
    "sns.set()"
   ]
  },
  {
   "cell_type": "code",
   "execution_count": 9,
   "metadata": {},
   "outputs": [],
   "source": [
    "#Praw is a Reddit Api Wrapper\n",
    "\n",
    "import praw"
   ]
  },
  {
   "cell_type": "code",
   "execution_count": 20,
   "metadata": {},
   "outputs": [],
   "source": [
    "#Connecting to the Reddit Api\n",
    "\n",
    "reddit=praw.Reddit(client_id=\"-lP_ca1voJ30SA\",client_secret='Sr9qgiRA8iER4G53SzyCy9aMgcQ',user_agent='vipul115')"
   ]
  },
  {
   "cell_type": "code",
   "execution_count": 21,
   "metadata": {},
   "outputs": [],
   "source": [
    "#Initializing headlines,ups and downs as empty lists\n",
    "\n",
    "Headlines=[]\n",
    "Ups=[]\n",
    "Downs=[]\n",
    "\n",
    "d={'Headlines':Headlines,\n",
    "        'Ups':Ups,\n",
    "        'Downs':Downs\n",
    "       }\n",
    "\n"
   ]
  },
  {
   "cell_type": "code",
   "execution_count": 23,
   "metadata": {},
   "outputs": [
    {
     "name": "stdout",
     "output_type": "stream",
     "text": [
      "Enter the subreddit you want to search  politics\n",
      "Enter the no of headlines you want to search 1000\n"
     ]
    }
   ],
   "source": [
    "#Input from the user\n",
    "\n",
    "searchTerm=input('Enter the subreddit you want to search  ')\n",
    "noofsearchTerm=int(input('Enter the no of headlines you want to search '))"
   ]
  },
  {
   "cell_type": "code",
   "execution_count": 24,
   "metadata": {},
   "outputs": [],
   "source": [
    "# .new(limit=noofsearchTerm) Finds the latest  headlines\n",
    "\n",
    "for submission in reddit.subreddit(searchTerm).new(limit=noofsearchTerm/2):\n",
    "    Headlines.append(submission.title)\n",
    "    Ups.append(submission.ups)\n",
    "    Downs.append(submission.downs)\n",
    "    \n"
   ]
  },
  {
   "cell_type": "code",
   "execution_count": 25,
   "metadata": {},
   "outputs": [],
   "source": [
    "# .hot(limit=noofsearchTerm) returns the most popular headlines\n",
    "\n",
    "for submission in reddit.subreddit(searchTerm).hot(limit=noofsearchTerm/2):\n",
    "    Headlines.append(submission.title)\n",
    "    Ups.append(submission.ups)\n",
    "    Downs.append(submission.downs)\n",
    "    \n",
    "    \n",
    "\n",
    "            "
   ]
  },
  {
   "cell_type": "code",
   "execution_count": 26,
   "metadata": {},
   "outputs": [],
   "source": [
    "df=pd.DataFrame(d)"
   ]
  },
  {
   "cell_type": "code",
   "execution_count": 27,
   "metadata": {},
   "outputs": [
    {
     "data": {
      "text/html": [
       "<div>\n",
       "<style scoped>\n",
       "    .dataframe tbody tr th:only-of-type {\n",
       "        vertical-align: middle;\n",
       "    }\n",
       "\n",
       "    .dataframe tbody tr th {\n",
       "        vertical-align: top;\n",
       "    }\n",
       "\n",
       "    .dataframe thead th {\n",
       "        text-align: right;\n",
       "    }\n",
       "</style>\n",
       "<table border=\"1\" class=\"dataframe\">\n",
       "  <thead>\n",
       "    <tr style=\"text-align: right;\">\n",
       "      <th></th>\n",
       "      <th>Headlines</th>\n",
       "      <th>Ups</th>\n",
       "      <th>Downs</th>\n",
       "    </tr>\n",
       "  </thead>\n",
       "  <tbody>\n",
       "    <tr>\n",
       "      <th>248</th>\n",
       "      <td>For the first time, Trump confesses that his c...</td>\n",
       "      <td>56849</td>\n",
       "      <td>0</td>\n",
       "    </tr>\n",
       "    <tr>\n",
       "      <th>518</th>\n",
       "      <td>For the first time, Trump confesses that his c...</td>\n",
       "      <td>56841</td>\n",
       "      <td>0</td>\n",
       "    </tr>\n",
       "    <tr>\n",
       "      <th>757</th>\n",
       "      <td>Ivanka Trump Comes Out Against Family Separati...</td>\n",
       "      <td>42842</td>\n",
       "      <td>0</td>\n",
       "    </tr>\n",
       "    <tr>\n",
       "      <th>505</th>\n",
       "      <td>The Day Trump Told Us There Was Attempted Coll...</td>\n",
       "      <td>37906</td>\n",
       "      <td>0</td>\n",
       "    </tr>\n",
       "    <tr>\n",
       "      <th>159</th>\n",
       "      <td>The Day Trump Told Us There Was Attempted Coll...</td>\n",
       "      <td>37901</td>\n",
       "      <td>0</td>\n",
       "    </tr>\n",
       "    <tr>\n",
       "      <th>927</th>\n",
       "      <td>Report: Trump commission did not find widespre...</td>\n",
       "      <td>35806</td>\n",
       "      <td>0</td>\n",
       "    </tr>\n",
       "    <tr>\n",
       "      <th>526</th>\n",
       "      <td>Trump's Supreme Court nominee argued president...</td>\n",
       "      <td>34779</td>\n",
       "      <td>0</td>\n",
       "    </tr>\n",
       "    <tr>\n",
       "      <th>283</th>\n",
       "      <td>Trump's Supreme Court nominee argued president...</td>\n",
       "      <td>34778</td>\n",
       "      <td>0</td>\n",
       "    </tr>\n",
       "    <tr>\n",
       "      <th>999</th>\n",
       "      <td>President Trump admits he’s trying to kill Oba...</td>\n",
       "      <td>30559</td>\n",
       "      <td>0</td>\n",
       "    </tr>\n",
       "    <tr>\n",
       "      <th>663</th>\n",
       "      <td>NRA Says it Is Facing a Financial Crisis, Twit...</td>\n",
       "      <td>28855</td>\n",
       "      <td>0</td>\n",
       "    </tr>\n",
       "    <tr>\n",
       "      <th>408</th>\n",
       "      <td>NRA Says it Is Facing a Financial Crisis, Twit...</td>\n",
       "      <td>28851</td>\n",
       "      <td>0</td>\n",
       "    </tr>\n",
       "    <tr>\n",
       "      <th>501</th>\n",
       "      <td>New Documents Show Trump’s Election Integrity ...</td>\n",
       "      <td>28511</td>\n",
       "      <td>0</td>\n",
       "    </tr>\n",
       "    <tr>\n",
       "      <th>79</th>\n",
       "      <td>New Documents Show Trump’s Election Integrity ...</td>\n",
       "      <td>28474</td>\n",
       "      <td>0</td>\n",
       "    </tr>\n",
       "    <tr>\n",
       "      <th>722</th>\n",
       "      <td>Just Remember That Your Punk-Ass President Wou...</td>\n",
       "      <td>28291</td>\n",
       "      <td>0</td>\n",
       "    </tr>\n",
       "    <tr>\n",
       "      <th>486</th>\n",
       "      <td>Melania breaks with Trump: LeBron is 'working ...</td>\n",
       "      <td>28108</td>\n",
       "      <td>0</td>\n",
       "    </tr>\n",
       "    <tr>\n",
       "      <th>699</th>\n",
       "      <td>Melania breaks with Trump: LeBron is 'working ...</td>\n",
       "      <td>28105</td>\n",
       "      <td>0</td>\n",
       "    </tr>\n",
       "    <tr>\n",
       "      <th>978</th>\n",
       "      <td>The Only Thing Between Trump And Impeachment I...</td>\n",
       "      <td>25295</td>\n",
       "      <td>0</td>\n",
       "    </tr>\n",
       "    <tr>\n",
       "      <th>523</th>\n",
       "      <td>Donald Trump Says Son's Meeting With Russians ...</td>\n",
       "      <td>19721</td>\n",
       "      <td>0</td>\n",
       "    </tr>\n",
       "    <tr>\n",
       "      <th>274</th>\n",
       "      <td>Donald Trump Says Son's Meeting With Russians ...</td>\n",
       "      <td>19714</td>\n",
       "      <td>0</td>\n",
       "    </tr>\n",
       "    <tr>\n",
       "      <th>904</th>\n",
       "      <td>The Call to Investigate Republicans for Collud...</td>\n",
       "      <td>18685</td>\n",
       "      <td>0</td>\n",
       "    </tr>\n",
       "  </tbody>\n",
       "</table>\n",
       "</div>"
      ],
      "text/plain": [
       "                                             Headlines    Ups  Downs\n",
       "248  For the first time, Trump confesses that his c...  56849      0\n",
       "518  For the first time, Trump confesses that his c...  56841      0\n",
       "757  Ivanka Trump Comes Out Against Family Separati...  42842      0\n",
       "505  The Day Trump Told Us There Was Attempted Coll...  37906      0\n",
       "159  The Day Trump Told Us There Was Attempted Coll...  37901      0\n",
       "927  Report: Trump commission did not find widespre...  35806      0\n",
       "526  Trump's Supreme Court nominee argued president...  34779      0\n",
       "283  Trump's Supreme Court nominee argued president...  34778      0\n",
       "999  President Trump admits he’s trying to kill Oba...  30559      0\n",
       "663  NRA Says it Is Facing a Financial Crisis, Twit...  28855      0\n",
       "408  NRA Says it Is Facing a Financial Crisis, Twit...  28851      0\n",
       "501  New Documents Show Trump’s Election Integrity ...  28511      0\n",
       "79   New Documents Show Trump’s Election Integrity ...  28474      0\n",
       "722  Just Remember That Your Punk-Ass President Wou...  28291      0\n",
       "486  Melania breaks with Trump: LeBron is 'working ...  28108      0\n",
       "699  Melania breaks with Trump: LeBron is 'working ...  28105      0\n",
       "978  The Only Thing Between Trump And Impeachment I...  25295      0\n",
       "523  Donald Trump Says Son's Meeting With Russians ...  19721      0\n",
       "274  Donald Trump Says Son's Meeting With Russians ...  19714      0\n",
       "904  The Call to Investigate Republicans for Collud...  18685      0"
      ]
     },
     "execution_count": 27,
     "metadata": {},
     "output_type": "execute_result"
    }
   ],
   "source": [
    "df.sort_values(by='Ups',inplace=True,ascending=False)\n",
    "df.head(20)"
   ]
  },
  {
   "cell_type": "code",
   "execution_count": 28,
   "metadata": {},
   "outputs": [
    {
     "data": {
      "text/plain": [
       "(1000, 4)"
      ]
     },
     "execution_count": 28,
     "metadata": {},
     "output_type": "execute_result"
    }
   ],
   "source": [
    "df['Sentiments']=0\n",
    "noofTerms=df.shape[0]\n",
    "df.shape"
   ]
  },
  {
   "cell_type": "code",
   "execution_count": 29,
   "metadata": {},
   "outputs": [
    {
     "name": "stderr",
     "output_type": "stream",
     "text": [
      "C:\\Anaconda3\\lib\\site-packages\\ipykernel_launcher.py:26: SettingWithCopyWarning: \n",
      "A value is trying to be set on a copy of a slice from a DataFrame\n",
      "\n",
      "See the caveats in the documentation: http://pandas.pydata.org/pandas-docs/stable/indexing.html#indexing-view-versus-copy\n",
      "C:\\Anaconda3\\lib\\site-packages\\ipykernel_launcher.py:24: SettingWithCopyWarning: \n",
      "A value is trying to be set on a copy of a slice from a DataFrame\n",
      "\n",
      "See the caveats in the documentation: http://pandas.pydata.org/pandas-docs/stable/indexing.html#indexing-view-versus-copy\n",
      "C:\\Anaconda3\\lib\\site-packages\\ipykernel_launcher.py:28: SettingWithCopyWarning: \n",
      "A value is trying to be set on a copy of a slice from a DataFrame\n",
      "\n",
      "See the caveats in the documentation: http://pandas.pydata.org/pandas-docs/stable/indexing.html#indexing-view-versus-copy\n"
     ]
    },
    {
     "name": "stdout",
     "output_type": "stream",
     "text": [
      "Overall Polarity is Positive\n"
     ]
    }
   ],
   "source": [
    "from textblob import TextBlob\n",
    "\n",
    "\n",
    "positive=0\n",
    "negative=0\n",
    "neutral=0\n",
    "polarity=0\n",
    "\n",
    "def percentage(part,whole):\n",
    "    return 100*float(part)/float(whole)\n",
    "\n",
    "\n",
    "for i,headline in enumerate(df['Headlines']):\n",
    "    analysis=TextBlob(headline)\n",
    "    polarity+=analysis.sentiment.polarity\n",
    "    if(analysis.sentiment.polarity==0.0):\n",
    "        neutral+=1\n",
    "    elif(analysis.sentiment.polarity>0.00):\n",
    "        positive+=1\n",
    "    elif(analysis.sentiment.polarity<0.00):\n",
    "        negative+=1\n",
    "\n",
    "    if(analysis.sentiment.polarity==0.0):\n",
    "        df['Sentiments'][i]=1\n",
    "    elif(analysis.sentiment.polarity>0.0):\n",
    "        df['Sentiments'][i]=2\n",
    "    elif(analysis.sentiment.polarity<0.0):\n",
    "        df['Sentiments'][i]=0\n",
    "        \n",
    "        \n",
    "#Calculating the percentage of all the positive,negative and neutral terms\n",
    "\n",
    "positive=percentage(positive,noofTerms)\n",
    "negative=percentage(negative,noofTerms)\n",
    "neutral=percentage(neutral,noofTerms)\n",
    "\n",
    "\n",
    "positive=format(positive, '.2f')\n",
    "negative=format(negative, '.2f')\n",
    "neutral=format(neutral, '.2f')\n",
    "\n",
    "\n",
    "if (polarity==0):\n",
    "    print(\"Overall Polarity is Neutral\")\n",
    "elif (polarity>0):\n",
    "    print(\"Overall Polarity is Positive\")\n",
    "elif (polarity<0):\n",
    "    print(\"Overall Polarity is Negative\")\n"
   ]
  },
  {
   "cell_type": "code",
   "execution_count": 30,
   "metadata": {},
   "outputs": [
    {
     "data": {
      "image/png": "[encoded data removed]",
      "text/plain": [
       "<Figure size 432x288 with 1 Axes>"
      ]
     },
     "metadata": {},
     "output_type": "display_data"
    }
   ],
   "source": [
    "#Visualization\n",
    "\n",
    "labels=['Positive [' +str(positive)+'%]', 'Neutral [' +str(neutral)+'%]', 'Negative [' +str(negative)+'%]']\n",
    "sizes=[positive,neutral,negative]\n",
    "colors=['yellowgreen','gold','red']\n",
    "patches,texts=plt.pie(sizes, colors=colors,startangle=90)\n",
    "plt.legend(patches,labels,loc=\"best\")\n",
    "plt.title(\"How people are reacting on \"+ searchTerm +\" by analyzing \"+ str(noofsearchTerm)+\" Headlines.\")\n",
    "plt.axis(\"equal\")\n",
    "plt.tight_layout()\n",
    "plt.show();"
   ]
  },
  {
   "cell_type": "code",
   "execution_count": null,
   "metadata": {},
   "outputs": [],
   "source": []
  }
 ],
 "metadata": {
  "kernelspec": {
   "display_name": "Python 3",
   "language": "python",
   "name": "python3"
  },
  "language_info": {
   "codemirror_mode": {
    "name": "ipython",
    "version": 3
   },
   "file_extension": ".py",
   "mimetype": "text/x-python",
   "name": "python",
   "nbconvert_exporter": "python",
   "pygments_lexer": "ipython3",
   "version": "3.6.5"
  }
 },
 "nbformat": 4,
 "nbformat_minor": 2
}
